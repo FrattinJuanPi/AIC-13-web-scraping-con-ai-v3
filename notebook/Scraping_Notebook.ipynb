{
 "cells": [
  {
   "cell_type": "markdown",
   "metadata": {
    "application/vnd.databricks.v1+cell": {
     "cellMetadata": {
      "byteLimit": 2048000,
      "rowLimit": 10000
     },
     "inputWidgets": {},
     "nuid": "96f726d5-8c2e-41db-a1cf-2b3ca05bd6f5",
     "showTitle": false,
     "tableResultSettingsMap": {},
     "title": ""
    }
   },
   "source": [
    "# 1) Seteos iniciales"
   ]
  },
  {
   "cell_type": "code",
   "execution_count": 0,
   "metadata": {
    "application/vnd.databricks.v1+cell": {
     "cellMetadata": {
      "byteLimit": 2048000,
      "rowLimit": 10000
     },
     "inputWidgets": {},
     "nuid": "2733fd2c-2af7-4147-94ef-23cc7e0e0f01",
     "showTitle": false,
     "tableResultSettingsMap": {},
     "title": ""
    }
   },
   "outputs": [
    {
     "output_type": "stream",
     "name": "stdout",
     "output_type": "stream",
     "text": [
      "Python interpreter will be restarted.\nCollecting openai\n  Downloading openai-1.98.0-py3-none-any.whl (767 kB)\nRequirement already satisfied: typing-extensions<5,>=4.11 in /local_disk0/.ephemeral_nfs/cluster_libraries/python/lib/python3.9/site-packages (from openai) (4.14.1)\nCollecting httpx<1,>=0.23.0\n  Downloading httpx-0.28.1-py3-none-any.whl (73 kB)\nCollecting distro<2,>=1.7.0\n  Downloading distro-1.9.0-py3-none-any.whl (20 kB)\nCollecting jiter<1,>=0.4.0\n  Downloading jiter-0.10.0-cp39-cp39-manylinux_2_17_x86_64.manylinux2014_x86_64.whl (353 kB)\nRequirement already satisfied: sniffio in /local_disk0/.ephemeral_nfs/cluster_libraries/python/lib/python3.9/site-packages (from openai) (1.3.1)\nRequirement already satisfied: tqdm>4 in /databricks/python3/lib/python3.9/site-packages (from openai) (4.64.0)\nRequirement already satisfied: pydantic<3,>=1.9.0 in /databricks/python3/lib/python3.9/site-packages (from openai) (1.10.2)\nCollecting anyio<5,>=3.5.0\n  Downloading anyio-4.9.0-py3-none-any.whl (100 kB)\nRequirement already satisfied: exceptiongroup>=1.0.2 in /local_disk0/.ephemeral_nfs/cluster_libraries/python/lib/python3.9/site-packages (from anyio<5,>=3.5.0->openai) (1.3.0)\nRequirement already satisfied: idna>=2.8 in /databricks/python3/lib/python3.9/site-packages (from anyio<5,>=3.5.0->openai) (3.3)\nRequirement already satisfied: certifi in /local_disk0/.ephemeral_nfs/cluster_libraries/python/lib/python3.9/site-packages (from httpx<1,>=0.23.0->openai) (2025.7.14)\nCollecting httpcore==1.*\n  Downloading httpcore-1.0.9-py3-none-any.whl (78 kB)\nRequirement already satisfied: h11>=0.16 in /local_disk0/.ephemeral_nfs/cluster_libraries/python/lib/python3.9/site-packages (from httpcore==1.*->httpx<1,>=0.23.0->openai) (0.16.0)\nInstalling collected packages: httpcore, anyio, jiter, httpx, distro, openai\n  Attempting uninstall: distro\n    Found existing installation: distro 1.4.0\n    Not uninstalling distro at /usr/lib/python3/dist-packages, outside environment /local_disk0/.ephemeral_nfs/envs/pythonEnv-47a91bc3-7db8-4c07-9e09-59ff8ae5977f\n    Can't uninstall 'distro'. No files were found to uninstall.\nSuccessfully installed anyio-4.9.0 distro-1.9.0 httpcore-1.0.9 httpx-0.28.1 jiter-0.10.0 openai-1.98.0\nPython interpreter will be restarted.\n"
     ]
    }
   ],
   "source": [
    "%pip install --upgrade openai"
   ]
  },
  {
   "cell_type": "code",
   "execution_count": 0,
   "metadata": {
    "application/vnd.databricks.v1+cell": {
     "cellMetadata": {
      "byteLimit": 2048000,
      "rowLimit": 10000
     },
     "inputWidgets": {},
     "nuid": "70e68239-0d73-44ef-8f16-c6e02fc25b34",
     "showTitle": true,
     "tableResultSettingsMap": {},
     "title": "Importaciones"
    }
   },
   "outputs": [
    {
     "output_type": "display_data",
     "data": {
      "application/vnd.databricks.v1+bamboolib_hint": "{\"pd.DataFrames\": [], \"version\": \"0.0.1\"}",
      "text/plain": []
     },
     "metadata": {},
     "output_type": "display_data"
    }
   ],
   "source": [
    "# librerías básicas\n",
    "import os\n",
    "import re\n",
    "import json\n",
    "import time\n",
    "import random\n",
    "import tempfile\n",
    "import pandas as pd\n",
    "from datetime import datetime\n",
    "from selenium import webdriver\n",
    "from pyspark.sql import SparkSession\n",
    "\n",
    "\n",
    "# Librerías para scraping\n",
    "from bs4 import BeautifulSoup\n",
    "from selenium.webdriver.common.by import By\n",
    "from selenium.webdriver.chrome.options import Options\n",
    "from selenium.webdriver.support.ui import WebDriverWait\n",
    "from selenium.webdriver.support import expected_conditions as EC\n",
    "\n",
    "# Librerias cloud Azure\n",
    "import openai\n",
    "from openai import AzureOpenAI"
   ]
  },
  {
   "cell_type": "code",
   "execution_count": 0,
   "metadata": {
    "application/vnd.databricks.v1+cell": {
     "cellMetadata": {},
     "inputWidgets": {},
     "nuid": "eea2e09d-1fbc-493d-9b9a-0050c29f83bb",
     "showTitle": false,
     "tableResultSettingsMap": {},
     "title": ""
    }
   },
   "outputs": [],
   "source": [
    "STORAGE_ACCOUNT_KEY = \"YOUR_KEY\""
   ]
  },
  {
   "cell_type": "code",
   "execution_count": 0,
   "metadata": {
    "application/vnd.databricks.v1+cell": {
     "cellMetadata": {
      "byteLimit": 2048000,
      "rowLimit": 10000
     },
     "inputWidgets": {},
     "nuid": "63f2a1da-5c42-41ab-948d-48104fbd882e",
     "showTitle": false,
     "tableResultSettingsMap": {},
     "title": ""
    }
   },
   "outputs": [],
   "source": [
    "# Set the configuration for accessing the Azure Data Lake Storage\n",
    "spark.conf.set(\n",
    "    \"fs.azure.account.key.scrapingiastorage.dfs.core.windows.net\",\n",
    "    STORAGE_ACCOUNT_KEY\n",
    ")    "
   ]
  },
  {
   "cell_type": "markdown",
   "metadata": {
    "application/vnd.databricks.v1+cell": {
     "cellMetadata": {
      "byteLimit": 2048000,
      "rowLimit": 10000
     },
     "inputWidgets": {},
     "nuid": "1a5cec51-37c3-4c70-ac3a-b9e30dd14d0b",
     "showTitle": false,
     "tableResultSettingsMap": {},
     "title": ""
    }
   },
   "source": [
    "# 2) Manejo de bloqueos"
   ]
  },
  {
   "cell_type": "code",
   "execution_count": 0,
   "metadata": {
    "application/vnd.databricks.v1+cell": {
     "cellMetadata": {
      "byteLimit": 2048000,
      "rowLimit": 10000
     },
     "collapsed": true,
     "inputWidgets": {},
     "nuid": "3742b6f9-545d-4a38-958a-81c27394b948",
     "showTitle": true,
     "tableResultSettingsMap": {},
     "title": "Headers"
    }
   },
   "outputs": [],
   "source": [
    "# Luego de numerosas pruebas, se decidió setear aleatoriamente los headers para evitar bloqueos, y no utilizar proxies, porque los proxies gratuitos son inestables y han dado varios problemas. Es mejor no setearlos en este caso.\n",
    "\n",
    "# Lista de headers aleatorios\n",
    "USER_AGENTS = [\n",
    "    \"Mozilla/5.0 (Windows NT 10.0; Win64; x64) AppleWebKit/537.36 (KHTML, like Gecko) Chrome/115.0.0.0 Safari/537.36\",\n",
    "    \"Mozilla/5.0 (Macintosh; Intel Mac OS X 10_15_7) AppleWebKit/605.1.15 (KHTML, like Gecko) Version/15.1 Safari/605.1.15\",\n",
    "    \"Mozilla/5.0 (X11; Ubuntu; Linux x86_64; rv:102.0) Gecko/20100101 Firefox/102.0\",\n",
    "    \"Mozilla/5.0 (Windows NT 10.0; Win64; x64) AppleWebKit/537.36 (KHTML, like Gecko) Chrome/115.0.0.0 Safari/537.36 Edg/115.0.1901.203\",\n",
    "    \"Mozilla/5.0 (iPhone; CPU iPhone OS 15_4 like Mac OS X) AppleWebKit/605.1.15 (KHTML, like Gecko) Version/15.0 Mobile/15E148 Safari/604.1\"\n",
    "]\n",
    "\n",
    "def get_random_headers():\n",
    "    \"\"\" Esta función setea los parámetros de conexión \n",
    "    con headers aleatorios \n",
    "    \"\"\"\n",
    "    return {\n",
    "        \"User-Agent\": random.choice(USER_AGENTS),\n",
    "        \"Accept-Language\": \"es-ES,es;q=0.9,en;q=0.8\",\n",
    "        \"Accept-Encoding\": \"gzip, deflate, br\",\n",
    "        \"Accept\": \"text/html,application/xhtml+xml,application/xml;q=0.9,*/*;q=0.8\",\n",
    "        \"Connection\": \"keep-alive\",\n",
    "        \"Referer\": \"https://www.google.com\"\n",
    "    }"
   ]
  },
  {
   "cell_type": "markdown",
   "metadata": {
    "application/vnd.databricks.v1+cell": {
     "cellMetadata": {
      "byteLimit": 2048000,
      "rowLimit": 10000
     },
     "inputWidgets": {},
     "nuid": "a28fb99e-06f2-4511-9637-e716762166d2",
     "showTitle": false,
     "tableResultSettingsMap": {},
     "title": ""
    }
   },
   "source": [
    "# 3) Descarga de HTMLs con Selenium"
   ]
  },
  {
   "cell_type": "code",
   "execution_count": 0,
   "metadata": {
    "application/vnd.databricks.v1+cell": {
     "cellMetadata": {
      "byteLimit": 2048000,
      "rowLimit": 10000
     },
     "collapsed": true,
     "inputWidgets": {},
     "nuid": "8b7ff198-9ebb-458a-bccc-2c7696ca7c0a",
     "showTitle": true,
     "tableResultSettingsMap": {},
     "title": "HTMLs"
    }
   },
   "outputs": [],
   "source": [
    "# Descarga de  HTMLs \n",
    "def download_htmls(urls, tiempo_espera=5):\n",
    "    \"\"\" Esta función descarga los HTMLs completos \n",
    "    utilizando scraping dinámico con beatufoulsoup \n",
    "    \"\"\"\n",
    "    \n",
    "    html_dict = {}\n",
    "\n",
    "    for url in urls:\n",
    "        headers = get_random_headers()\n",
    "        user_data_dir = tempfile.mkdtemp()\n",
    "\n",
    "        opciones = Options()\n",
    "        opciones.add_argument(\"--headless\") \n",
    "        opciones.add_argument(\"--disable-gpu\")\n",
    "        opciones.add_argument(\"--no-sandbox\")\n",
    "        opciones.add_argument(f\"--user-data-dir={user_data_dir}\")\n",
    "        opciones.add_argument(f\"user-agent={headers['User-Agent']}\")\n",
    "\n",
    "        try:\n",
    "            driver = webdriver.Chrome(options=opciones)\n",
    "            driver.get(url)\n",
    "\n",
    "            WebDriverWait(driver, 15).until(\n",
    "                EC.presence_of_element_located((By.CSS_SELECTOR, \"article, h2, h3, .headline, a[href]\"))\n",
    "            )\n",
    "\n",
    "            # Scroll para cargar contenido dinámico, sirve para evitar bloqueos a bots\n",
    "            for _ in range(3):\n",
    "                driver.execute_script(\"window.scrollTo(0, document.body.scrollHeight);\")\n",
    "                time.sleep(2)\n",
    "\n",
    "            time.sleep(tiempo_espera)\n",
    "\n",
    "            html_completo = driver.page_source\n",
    "            dominio = url.split(\"//\")[-1].split(\"/\")[0].replace(\"www.\", \"\")\n",
    "            html_dict[dominio] = html_completo\n",
    "\n",
    "            driver.save_screenshot(f\"screenshot_{dominio}.png\")\n",
    "            driver.quit()\n",
    "\n",
    "        except Exception as e:\n",
    "            print(f\"Error procesando {url}: {e}\")\n",
    "            continue\n",
    "\n",
    "    return html_dict"
   ]
  },
  {
   "cell_type": "code",
   "execution_count": 0,
   "metadata": {
    "application/vnd.databricks.v1+cell": {
     "cellMetadata": {
      "byteLimit": 2048000,
      "rowLimit": 10000
     },
     "inputWidgets": {},
     "nuid": "91100ae2-73ac-4688-be58-ba013e085bb8",
     "showTitle": true,
     "tableResultSettingsMap": {},
     "title": "URLs"
    }
   },
   "outputs": [
    {
     "output_type": "stream",
     "name": "stderr",
     "output_type": "stream",
     "text": [
      "WARNING:selenium.webdriver.common.selenium_manager:The chromedriver version (137.0.7151.55) detected in PATH at /usr/local/bin/chromedriver might not be compatible with the detected chrome version (138.0.7204.183); currently, chromedriver 138.0.7204.183 is recommended for chrome 138.*, so it is advised to delete the driver in PATH and retry\nWARNING:selenium.webdriver.common.selenium_manager:The chromedriver version (137.0.7151.55) detected in PATH at /usr/local/bin/chromedriver might not be compatible with the detected chrome version (138.0.7204.183); currently, chromedriver 138.0.7204.183 is recommended for chrome 138.*, so it is advised to delete the driver in PATH and retry\nWARNING:selenium.webdriver.common.selenium_manager:The chromedriver version (137.0.7151.55) detected in PATH at /usr/local/bin/chromedriver might not be compatible with the detected chrome version (138.0.7204.183); currently, chromedriver 138.0.7204.183 is recommended for chrome 138.*, so it is advised to delete the driver in PATH and retry\nWARNING:selenium.webdriver.common.selenium_manager:The chromedriver version (137.0.7151.55) detected in PATH at /usr/local/bin/chromedriver might not be compatible with the detected chrome version (138.0.7204.183); currently, chromedriver 138.0.7204.183 is recommended for chrome 138.*, so it is advised to delete the driver in PATH and retry\nWARNING:selenium.webdriver.common.selenium_manager:The chromedriver version (137.0.7151.55) detected in PATH at /usr/local/bin/chromedriver might not be compatible with the detected chrome version (138.0.7204.183); currently, chromedriver 138.0.7204.183 is recommended for chrome 138.*, so it is advised to delete the driver in PATH and retry\nWARNING:selenium.webdriver.common.selenium_manager:The chromedriver version (137.0.7151.55) detected in PATH at /usr/local/bin/chromedriver might not be compatible with the detected chrome version (138.0.7204.183); currently, chromedriver 138.0.7204.183 is recommended for chrome 138.*, so it is advised to delete the driver in PATH and retry\nWARNING:selenium.webdriver.common.selenium_manager:The chromedriver version (137.0.7151.55) detected in PATH at /usr/local/bin/chromedriver might not be compatible with the detected chrome version (138.0.7204.183); currently, chromedriver 138.0.7204.183 is recommended for chrome 138.*, so it is advised to delete the driver in PATH and retry\n"
     ]
    }
   ],
   "source": [
    "# Lista de urls para la descarga de sus HTMLs\n",
    "urls = [\n",
    "   # \"https://www.marketwatch.com/latest-news\",              # EE.UU.\n",
    "    \"https://www.cnbc.com/economy/\",                         # EE.UU.\n",
    "   # \"https://www.nasdaq.com/news-and-insights\",             # EE.UU.\n",
    "    \"https://www.elcomercio.pe/economia/\",                   # Perú\n",
    "  #  \"https://www.eltiempo.com/economia\",                    # Colombia\n",
    "   \"https://www.larepublica.co/economia\",                    # Colombia\n",
    "  #  \"https://www.eluniversal.com.mx/cartera\",               # México\n",
    "    \"https://www.emol.com/noticias/Economia/portada.aspx\",   # Chile\n",
    "  #  \"https://www.ghanaweb.com/GhanaHomePage/business/\",     # Ghana\n",
    "  #  \"https://www.businessghana.com/\",                       # Ghana \n",
    "  #  \"https://www.fratmat.info/economie\",                    # Costa de Marfil \n",
    "  #  \"https://g1.globo.com/economia/\",                       # Brasil \n",
    " #   \"https://www.infomoney.com.br/\",                        # Brasil \n",
    "  #  \"https://www.ambito.com/economia\",                      # Argentina\n",
    " #   \"https://www.cronista.com/finanzas-mercados\",           # Argentina\n",
    "    \"https://www.clarin.com/economia\",                       # Argentina\n",
    "    \"https://www.infobae.com/economia\",                      # Argentina\n",
    "    \"https://tn.com.ar/economia/\"                            # Argentina\n",
    "\n",
    "]\n",
    "\n",
    "# Aplicación de la descarga de HTMLs\n",
    "dict_download_htmls = download_htmls(urls)"
   ]
  },
  {
   "cell_type": "code",
   "execution_count": 0,
   "metadata": {
    "application/vnd.databricks.v1+cell": {
     "cellMetadata": {
      "byteLimit": 2048000,
      "rowLimit": 10000
     },
     "inputWidgets": {},
     "nuid": "bb33ae2b-0fee-4bd2-9f0f-b4a4964513a4",
     "showTitle": false,
     "tableResultSettingsMap": {},
     "title": ""
    }
   },
   "outputs": [],
   "source": [
    "# Serializar dict a JSON\n",
    "json_data = json.dumps(dict_download_htmls, ensure_ascii=False, indent=2)"
   ]
  },
  {
   "cell_type": "code",
   "execution_count": 0,
   "metadata": {
    "application/vnd.databricks.v1+cell": {
     "cellMetadata": {
      "byteLimit": 2048000,
      "rowLimit": 10000
     },
     "inputWidgets": {},
     "nuid": "1ed7084a-0b9c-4108-9d06-b039b4fe7c9c",
     "showTitle": false,
     "tableResultSettingsMap": {},
     "title": ""
    }
   },
   "outputs": [
    {
     "output_type": "stream",
     "name": "stdout",
     "output_type": "stream",
     "text": [
      "Wrote 4506338 bytes.\nOut[44]: True"
     ]
    }
   ],
   "source": [
    "dbutils.fs.put(\n",
    "    \"abfss://scraps@scrapingiastorage.dfs.core.windows.net/raw/htmls.json\",\n",
    "    json_data,\n",
    "    overwrite=True\n",
    ")"
   ]
  },
  {
   "cell_type": "code",
   "execution_count": 0,
   "metadata": {
    "application/vnd.databricks.v1+cell": {
     "cellMetadata": {
      "byteLimit": 2048000,
      "rowLimit": 10000
     },
     "inputWidgets": {},
     "nuid": "031451e9-d8a4-488c-93a1-dd9852d75aa5",
     "showTitle": false,
     "tableResultSettingsMap": {},
     "title": ""
    }
   },
   "outputs": [],
   "source": [
    "# Construcción del DataFrame a partir de los HTMLs descargados\n",
    "spark = SparkSession.builder.getOrCreate()\n",
    "\n",
    "data = [(k, v) for k, v in dict_download_htmls.items()]\n",
    "df_news = spark.createDataFrame(data, schema=[\"source\", \"html\"])\n",
    "\n",
    "df_news_pd = df_news.toPandas()"
   ]
  },
  {
   "cell_type": "markdown",
   "metadata": {
    "application/vnd.databricks.v1+cell": {
     "cellMetadata": {
      "byteLimit": 2048000,
      "rowLimit": 10000
     },
     "inputWidgets": {},
     "nuid": "979e364c-8d38-4761-b64d-050cbece9bda",
     "showTitle": false,
     "tableResultSettingsMap": {},
     "title": ""
    }
   },
   "source": [
    "# 4) Credenciales y autenticación a AZURE"
   ]
  },
  {
   "cell_type": "code",
   "execution_count": 0,
   "metadata": {
    "application/vnd.databricks.v1+cell": {
     "cellMetadata": {
      "byteLimit": 2048000,
      "rowLimit": 10000
     },
     "inputWidgets": {},
     "nuid": "17dbc792-f45b-4e9a-88df-fabc83008175",
     "showTitle": false,
     "tableResultSettingsMap": {},
     "title": ""
    }
   },
   "outputs": [],
   "source": [
    "# Credenciales de conexión con Azure\n",
    "YOUR_ENDPOINT = \"https://scrapingia.openai.azure.com\"\n",
    "YOUR_IA_MODEL_NAME = \"o4-mini\"\n",
    "DEPLOYMENT = \"o4-mini-challengue\"\n",
    "\n",
    "YOUR_API_KEY = \"your_key\"\n",
    "YOUR_API_VERSION = \"2024-12-01-preview\"\n",
    "\n",
    "client = AzureOpenAI(\n",
    "    api_version=YOUR_API_VERSION,\n",
    "    azure_endpoint=YOUR_ENDPOINT,\n",
    "    api_key=YOUR_API_KEY,\n",
    ")"
   ]
  },
  {
   "cell_type": "markdown",
   "metadata": {
    "application/vnd.databricks.v1+cell": {
     "cellMetadata": {
      "byteLimit": 2048000,
      "rowLimit": 10000
     },
     "inputWidgets": {},
     "nuid": "4504cd4b-60c0-4a09-8273-a13f494038c7",
     "showTitle": false,
     "tableResultSettingsMap": {},
     "title": ""
    }
   },
   "source": [
    "# 5) Llamada al modelo de IA para Scraping"
   ]
  },
  {
   "cell_type": "code",
   "execution_count": 0,
   "metadata": {
    "application/vnd.databricks.v1+cell": {
     "cellMetadata": {
      "byteLimit": 2048000,
      "rowLimit": 10000
     },
     "inputWidgets": {},
     "nuid": "19aa15bc-b42f-455c-8887-3040abf89039",
     "showTitle": false,
     "tableResultSettingsMap": {},
     "title": ""
    }
   },
   "outputs": [
    {
     "output_type": "stream",
     "name": "stdout",
     "output_type": "stream",
     "text": [
      "------------------------------------------------------------\nDominio: cnbc.com, longitud HTML: 2735541\nDominio: elcomercio.pe, longitud HTML: 312589\nDominio: larepublica.co, longitud HTML: 101647\nDominio: emol.com, longitud HTML: 123174\nDominio: clarin.com, longitud HTML: 573981\nDominio: infobae.com, longitud HTML: 311182\nDominio: tn.com.ar, longitud HTML: 194828\n------------------------------------------------------------\n"
     ]
    }
   ],
   "source": [
    "# Chequeo de la longitud de los HTMLs descargados\n",
    "print('-'*60)\n",
    "for dominio, html in dict_download_htmls.items():\n",
    "    print(f\"Dominio: {dominio}, longitud HTML: {len(html)}\")\n",
    "print('-'*60)"
   ]
  },
  {
   "cell_type": "code",
   "execution_count": 0,
   "metadata": {
    "application/vnd.databricks.v1+cell": {
     "cellMetadata": {
      "byteLimit": 2048000,
      "rowLimit": 10000
     },
     "inputWidgets": {},
     "nuid": "35eb956a-08d9-4b34-bfa4-37c85b32ad1e",
     "showTitle": false,
     "tableResultSettingsMap": {},
     "title": ""
    }
   },
   "outputs": [],
   "source": [
    "def reducir_htmls_por_listas(html_dict, max_listas=5):\n",
    "    \"\"\"Extrae las primeras listas UL relevantes (con links) de cada HTML en el diccionario.\"\"\"\n",
    "    htmls_reducidos = {}\n",
    "    for source, html in html_dict.items():\n",
    "        try:\n",
    "            soup = BeautifulSoup(html, \"html.parser\")\n",
    "            listas = soup.find_all(\"ul\")\n",
    "\n",
    "            listas_filtradas = []\n",
    "            for ul in listas:\n",
    "                if len(ul.find_all(\"li\")) >= 3 and ul.find(\"a\"):\n",
    "                    listas_filtradas.append(str(ul))\n",
    "                if len(listas_filtradas) >= max_listas:\n",
    "                    break\n",
    "\n",
    "            htmls_reducidos[source] = \"\\n\".join(listas_filtradas)\n",
    "        except Exception as e:\n",
    "            print(f\"Error procesando {source}: {e}\")\n",
    "            htmls_reducidos[source] = \"\"\n",
    "    return htmls_reducidos\n",
    "\n",
    "html_dict_reducido = reducir_htmls_por_listas(dict_download_htmls)"
   ]
  },
  {
   "cell_type": "code",
   "execution_count": 0,
   "metadata": {
    "application/vnd.databricks.v1+cell": {
     "cellMetadata": {
      "byteLimit": 2048000,
      "rowLimit": 10000
     },
     "inputWidgets": {},
     "nuid": "ee12ff63-eea6-43f5-bccb-f81258f5f71c",
     "showTitle": false,
     "tableResultSettingsMap": {},
     "title": ""
    }
   },
   "outputs": [
    {
     "output_type": "stream",
     "name": "stdout",
     "output_type": "stream",
     "text": [
      "------------------------------------------------------------\nDominio: cnbc.com, longitud HTML: 4590\nDominio: elcomercio.pe, longitud HTML: 14983\nDominio: larepublica.co, longitud HTML: 9226\nDominio: emol.com, longitud HTML: 19890\nDominio: clarin.com, longitud HTML: 39772\nDominio: infobae.com, longitud HTML: 0\nDominio: tn.com.ar, longitud HTML: 8599\n------------------------------------------------------------\n"
     ]
    }
   ],
   "source": [
    "# Chequeo de la longitud de los HTMLs recortados\n",
    "print(\"-\" * 60)\n",
    "for dominio, html in html_dict_reducido.items():\n",
    "    print(f\"Dominio: {dominio}, longitud HTML: {len(html)}\")\n",
    "print(\"-\" * 60)"
   ]
  },
  {
   "cell_type": "code",
   "execution_count": 0,
   "metadata": {
    "application/vnd.databricks.v1+cell": {
     "cellMetadata": {
      "byteLimit": 2048000,
      "rowLimit": 10000
     },
     "inputWidgets": {},
     "nuid": "5fedcd56-b7c2-49c1-bac9-b0ccc2858241",
     "showTitle": false,
     "tableResultSettingsMap": {},
     "title": ""
    }
   },
   "outputs": [
    {
     "output_type": "stream",
     "name": "stdout",
     "output_type": "stream",
     "text": [
      "------------------------------------------------------------\nDominio: cnbc.com, cantidad de bloques: 1\n   → Bloque 1 longitud: 4591\nDominio: elcomercio.pe, cantidad de bloques: 2\n   → Bloque 1 longitud: 6042\n   → Bloque 2 longitud: 8942\nDominio: larepublica.co, cantidad de bloques: 2\n   → Bloque 1 longitud: 8423\n   → Bloque 2 longitud: 804\nDominio: emol.com, cantidad de bloques: 3\n   → Bloque 1 longitud: 3023\n   → Bloque 2 longitud: 16418\n   → Bloque 3 longitud: 450\nDominio: clarin.com, cantidad de bloques: 5\n   → Bloque 1 longitud: 2611\n   → Bloque 2 longitud: 20549\n   → Bloque 3 longitud: 925\n   → Bloque 4 longitud: 10991\n   → Bloque 5 longitud: 4697\nDominio: infobae.com, cantidad de bloques: 0\nDominio: tn.com.ar, cantidad de bloques: 1\n   → Bloque 1 longitud: 8600\n------------------------------------------------------------\n"
     ]
    }
   ],
   "source": [
    "def dividir_html_en_bloques(html, max_chars=9000):\n",
    "    \"\"\"Divide un HTML en bloques separados si excede cierto largo (usando <ul> como unidad).\"\"\"\n",
    "    soup = BeautifulSoup(html, \"html.parser\")\n",
    "    listas = soup.find_all(\"ul\")\n",
    "\n",
    "    bloques = []\n",
    "    bloque_actual = \"\"\n",
    "\n",
    "    for ul in listas:\n",
    "        ul_str = str(ul)\n",
    "        if len(bloque_actual) + len(ul_str) > max_chars:\n",
    "            if bloque_actual:\n",
    "                bloques.append(bloque_actual)\n",
    "                bloque_actual = \"\"\n",
    "        bloque_actual += ul_str + \"\\n\"\n",
    "\n",
    "    if bloque_actual:\n",
    "        bloques.append(bloque_actual)\n",
    "\n",
    "    return bloques\n",
    "\n",
    "# Si la longitud del HTML es mayor a 9000 caracteres, aplico la función para divirlo en bloques\n",
    "html_dict_dividido = {source: dividir_html_en_bloques(html) for source, html in html_dict_reducido.items()}\n",
    "\n",
    "# Chequeo de la longitud de los HTMLs divididos\n",
    "print('-'*60)\n",
    "for dominio, bloques in html_dict_dividido.items():\n",
    "    print(f\"Dominio: {dominio}, cantidad de bloques: {len(bloques)}\")\n",
    "    for i, bloque in enumerate(bloques):\n",
    "        print(f\"   → Bloque {i+1} longitud: {len(bloque)}\")\n",
    "print('-'*60)"
   ]
  },
  {
   "cell_type": "code",
   "execution_count": 0,
   "metadata": {
    "application/vnd.databricks.v1+cell": {
     "cellMetadata": {
      "byteLimit": 2048000,
      "rowLimit": 10000
     },
     "inputWidgets": {},
     "nuid": "d915fd39-a523-482f-bbd3-f4e767eacc9e",
     "showTitle": true,
     "tableResultSettingsMap": {},
     "title": "Extracción de noticias"
    }
   },
   "outputs": [],
   "source": [
    "# Función para extraer titulares y URLs con Gemini\n",
    "def extraer_titulares_azure(html, source, max_retries=5):\n",
    "    \"\"\"Extrae titulares y URLs usando Azure OpenAI, con retry en caso de error 429.\"\"\"\n",
    "\n",
    "    for intento in range(max_retries):\n",
    "        try:\n",
    "            prompt = (\n",
    "                \"You are a data analyst. Your task is to read this reduced HTML fragment \"\n",
    "                \"(usually containing article links) and extract a list of main news headlines.\\n\\n\"\n",
    "                \"Do NOT include links to sections, categories, tags, or general pages.\\n\"\n",
    "                \"Only include individual news article headlines with their corresponding URLs.\\n\\n\"\n",
    "                \"Output a valid JSON list with this exact format:\\n\"\n",
    "                \"[{\\\"title\\\": \\\"...\\\", \\\"url\\\": \\\"...\\\"}]\\n\\n\"\n",
    "                \"Use double quotes for all JSON keys and values.\\n\"\n",
    "                \"Make sure the title is complete and informative. If the title seems too short, \"\n",
    "                \"try to infer or complete it using the last part of the URL (where words are separated by hyphens).\\n\\n\"\n",
    "                \"Example:\\n\"\n",
    "                \"[{\\\"title\\\": \\\"Man arrested for fraud in government bidding\\\", \\\"url\\\": \\\"https://example.com/news1\\\"}]\\n\\n\"\n",
    "                f\"HTML:\\n{html}\"\n",
    "            )\n",
    "\n",
    "            response = client.chat.completions.create(\n",
    "                model=DEPLOYMENT,\n",
    "                messages=[{\"role\": \"user\", \"content\": prompt}]\n",
    "            )\n",
    "\n",
    "            response_text = response.choices[0].message.content\n",
    "            match = re.search(r'\\[.*\\]', response_text, re.DOTALL)\n",
    "            if not match:\n",
    "                raise ValueError(\"No se encontró JSON en la respuesta\")\n",
    "\n",
    "            data = json.loads(match.group(0))\n",
    "            for item in data:\n",
    "                item[\"source\"] = source\n",
    "                item[\"article_date\"] = datetime.now().strftime('%Y-%m-%d')\n",
    "            return data\n",
    "\n",
    "        except Exception as e:\n",
    "            if \"429\" in str(e):\n",
    "                print(f\"Intento {intento + 1}/{max_retries} - Error 429 para {source}, esperando 60 segundos...\")\n",
    "                time.sleep(60)\n",
    "            else:\n",
    "                print(f\"Error extrayendo con Azure para {source}: {e}\")\n",
    "                break\n",
    "\n",
    "    return []"
   ]
  },
  {
   "cell_type": "code",
   "execution_count": 0,
   "metadata": {
    "application/vnd.databricks.v1+cell": {
     "cellMetadata": {
      "byteLimit": 2048000,
      "rowLimit": 10000
     },
     "inputWidgets": {},
     "nuid": "67177615-8bf4-466d-a070-0df972d2984e",
     "showTitle": true,
     "tableResultSettingsMap": {},
     "title": "Extraccion por bloques"
    }
   },
   "outputs": [],
   "source": [
    "def extraer_todos_azure_por_bloques(html_dict_dividido, max_retries=5):\n",
    "    \"\"\"Procesa bloques de HTML por cada dominio y extrae titulares con Azure.\"\"\"\n",
    "    todas_filas = []\n",
    "\n",
    "    for source, bloques in html_dict_dividido.items():\n",
    "        print(f\"Procesando {source} ({len(bloques)} bloque(s))\")\n",
    "\n",
    "        for i, bloque in enumerate(bloques):\n",
    "            print(f\"  → Bloque {i+1}/{len(bloques)}\")\n",
    "            try:\n",
    "                filas = extraer_titulares_azure(bloque, source=f\"{source}_bloque{i+1}\", max_retries=max_retries)\n",
    "                todas_filas.extend(filas)\n",
    "            except Exception as e:\n",
    "                print(f\" Error en {source} bloque {i+1}: {e}\")\n",
    "    \n",
    "    return pd.DataFrame(todas_filas)\n"
   ]
  },
  {
   "cell_type": "code",
   "execution_count": 0,
   "metadata": {
    "application/vnd.databricks.v1+cell": {
     "cellMetadata": {
      "byteLimit": 2048000,
      "rowLimit": 10000
     },
     "inputWidgets": {},
     "nuid": "c9b30182-db7e-474e-8ac3-b9cc49e5c44e",
     "showTitle": false,
     "tableResultSettingsMap": {},
     "title": ""
    }
   },
   "outputs": [
    {
     "output_type": "stream",
     "name": "stdout",
     "output_type": "stream",
     "text": [
      "Procesando cnbc.com (1 bloque(s))\n  → Bloque 1/1\nProcesando elcomercio.pe (2 bloque(s))\n  → Bloque 1/2\n  → Bloque 2/2\nProcesando larepublica.co (2 bloque(s))\n  → Bloque 1/2\n  → Bloque 2/2\nProcesando emol.com (3 bloque(s))\n  → Bloque 1/3\n  → Bloque 2/3\n  → Bloque 3/3\nProcesando clarin.com (5 bloque(s))\n  → Bloque 1/5\n  → Bloque 2/5\n  → Bloque 3/5\n  → Bloque 4/5\n  → Bloque 5/5\nProcesando infobae.com (0 bloque(s))\nProcesando tn.com.ar (1 bloque(s))\n  → Bloque 1/1\n"
     ]
    }
   ],
   "source": [
    "# Procesar todos los HTMLs del diccionario\n",
    "df_titulares_azure = extraer_todos_azure_por_bloques(html_dict_dividido)"
   ]
  },
  {
   "cell_type": "code",
   "execution_count": 0,
   "metadata": {
    "application/vnd.databricks.v1+cell": {
     "cellMetadata": {
      "byteLimit": 2048000,
      "rowLimit": 10000
     },
     "inputWidgets": {},
     "nuid": "8c9dd154-6c0f-4f98-b181-96da5df066f2",
     "showTitle": false,
     "tableResultSettingsMap": {},
     "title": ""
    }
   },
   "outputs": [],
   "source": [
    "# Eliminar teminaciones .com , .ar, .br, .mx  de la columna 'source'\n",
    "df_titulares_azure['source'] = df_titulares_azure['source'].apply(lambda x: re.sub(r'\\.com|\\.ar|\\.br|\\.co|\\.pe|\\.cl|\\.mx|', '', x))\n",
    "\n",
    "# Eliminar terminaciones '_bloque' de la columna 'source'\n",
    "df_titulares_azure['source'] = df_titulares_azure['source'].apply(lambda x: re.sub(r'_bloque\\d+$', '', x))"
   ]
  },
  {
   "cell_type": "code",
   "execution_count": 0,
   "metadata": {
    "application/vnd.databricks.v1+cell": {
     "cellMetadata": {
      "byteLimit": 2048000,
      "rowLimit": 10000
     },
     "inputWidgets": {},
     "nuid": "517532f9-b3c8-4dab-b962-3a0a44ca77ca",
     "showTitle": false,
     "tableResultSettingsMap": {},
     "title": ""
    }
   },
   "outputs": [],
   "source": [
    "# O si la URL tiene muchas palabras separadas por guiones (característico de las noticias)\n",
    "df_titulares_azure['palabras_en_url'] = df_titulares_azure['url'].str.count('-')\n",
    "df_titulares_azure = df_titulares_azure[df_titulares_azure['palabras_en_url'] > 2]\n"
   ]
  },
  {
   "cell_type": "code",
   "execution_count": 0,
   "metadata": {
    "application/vnd.databricks.v1+cell": {
     "cellMetadata": {
      "byteLimit": 2048000,
      "rowLimit": 10000
     },
     "inputWidgets": {},
     "nuid": "2f65ca27-6fbf-49e4-905a-33c7529941c3",
     "showTitle": false,
     "tableResultSettingsMap": {},
     "title": ""
    }
   },
   "outputs": [
    {
     "output_type": "display_data",
     "data": {
      "text/html": [
       "<div>\n",
       "<style scoped>\n",
       "    .dataframe tbody tr th:only-of-type {\n",
       "        vertical-align: middle;\n",
       "    }\n",
       "\n",
       "    .dataframe tbody tr th {\n",
       "        vertical-align: top;\n",
       "    }\n",
       "\n",
       "    .dataframe thead th {\n",
       "        text-align: right;\n",
       "    }\n",
       "</style>\n",
       "<table border=\"1\" class=\"dataframe\">\n",
       "  <thead>\n",
       "    <tr style=\"text-align: right;\">\n",
       "      <th></th>\n",
       "      <th>url</th>\n",
       "    </tr>\n",
       "    <tr>\n",
       "      <th>source</th>\n",
       "      <th></th>\n",
       "    </tr>\n",
       "  </thead>\n",
       "  <tbody>\n",
       "    <tr>\n",
       "      <th>clarin</th>\n",
       "      <td>31</td>\n",
       "    </tr>\n",
       "    <tr>\n",
       "      <th>elcomercio</th>\n",
       "      <td>17</td>\n",
       "    </tr>\n",
       "    <tr>\n",
       "      <th>emol</th>\n",
       "      <td>12</td>\n",
       "    </tr>\n",
       "    <tr>\n",
       "      <th>tn</th>\n",
       "      <td>10</td>\n",
       "    </tr>\n",
       "  </tbody>\n",
       "</table>\n",
       "</div>"
      ]
     },
     "metadata": {
      "application/vnd.databricks.v1+output": {
       "addedWidgets": {},
       "arguments": {},
       "data": "<div>\n<style scoped>\n    .dataframe tbody tr th:only-of-type {\n        vertical-align: middle;\n    }\n\n    .dataframe tbody tr th {\n        vertical-align: top;\n    }\n\n    .dataframe thead th {\n        text-align: right;\n    }\n</style>\n<table border=\"1\" class=\"dataframe\">\n  <thead>\n    <tr style=\"text-align: right;\">\n      <th></th>\n      <th>url</th>\n    </tr>\n    <tr>\n      <th>source</th>\n      <th></th>\n    </tr>\n  </thead>\n  <tbody>\n    <tr>\n      <th>clarin</th>\n      <td>31</td>\n    </tr>\n    <tr>\n      <th>elcomercio</th>\n      <td>17</td>\n    </tr>\n    <tr>\n      <th>emol</th>\n      <td>12</td>\n    </tr>\n    <tr>\n      <th>tn</th>\n      <td>10</td>\n    </tr>\n  </tbody>\n</table>\n</div>",
       "datasetInfos": [],
       "metadata": {},
       "removedWidgets": [],
       "textData": null,
       "type": "htmlSandbox"
      }
     },
     "output_type": "display_data"
    }
   ],
   "source": [
    "# Agrupar noticias por source (origen) y contar cantidad de noticias obtenidas\n",
    "df_titulares_azure.groupby('source').agg({'url': 'count'})"
   ]
  },
  {
   "cell_type": "code",
   "execution_count": 0,
   "metadata": {
    "application/vnd.databricks.v1+cell": {
     "cellMetadata": {
      "byteLimit": 2048000,
      "rowLimit": 10000
     },
     "inputWidgets": {},
     "nuid": "402d1832-faeb-4641-9846-10eb772e4b5c",
     "showTitle": false,
     "tableResultSettingsMap": {
      "0": {
       "dataGridStateBlob": "{\"version\":1,\"tableState\":{\"columnPinning\":{\"left\":[\"#row_number#\"],\"right\":[]},\"columnSizing\":{\"title\":438},\"columnVisibility\":{}},\"settings\":{\"columns\":{\"url\":{\"format\":{\"preset\":\"string-preset-url\"}}}},\"syncTimestamp\":1753815217177}",
       "filterBlob": null,
       "queryPlanFiltersBlob": null,
       "tableResultIndex": 0
      }
     },
     "title": ""
    }
   },
   "outputs": [
    {
     "output_type": "display_data",
     "data": {
      "text/html": [
       "<style scoped>\n",
       "  .table-result-container {\n",
       "    max-height: 300px;\n",
       "    overflow: auto;\n",
       "  }\n",
       "  table, th, td {\n",
       "    border: 1px solid black;\n",
       "    border-collapse: collapse;\n",
       "  }\n",
       "  th, td {\n",
       "    padding: 5px;\n",
       "  }\n",
       "  th {\n",
       "    text-align: left;\n",
       "  }\n",
       "</style><div class='table-result-container'><table class='table-result'><thead style='background-color: white'><tr><th>article_date</th><th>source</th><th>title</th><th>url</th></tr></thead><tbody><tr><td>2025-07-30</td><td>elcomercio</td><td>Alerta de tsunami en el Pacífico tras sismo de magnitud 8 cerca de la costa de Rusia</td><td>https://elcomercio.pe/mundo/desastres/alerta-de-tsunami-en-el-pacifico-tras-sismo-de-magnitud-8-cerca-de-la-costa-de-rusia-petropavlovsk-kamtchatski-peninsula-de-kamchatka-terremoto-temblor-sismo-alaska-usgs-ultimas-noticia/</td></tr><tr><td>2025-07-30</td><td>elcomercio</td><td>Alerta de tsunami en Perú por terremoto de 8.8 en Rusia: zonas, horas y altura de las olas que afectarían la costa peruana</td><td>https://elcomercio.pe/lima/sucesos/alerta-de-tsunami-en-peru-por-terremoto-de-88-en-rusia-en-vivo-estas-son-las-zonas-las-horas-y-la-altura-de-las-olas-que-afectarian-la-costa-peruana-oceano-pacifico-marina-de-guerra-igp-coen-indeci-lbposting-noticia/</td></tr><tr><td>2025-07-30</td><td>elcomercio</td><td>Llegada de la mandataria Dina Boluarte a la gran parada cívico-militar por Fiestas Patrias</td><td>https://elcomercio.pe/lima/dina-boluarte-asi-fue-la-llegada-de-la-mandataria-a-la-gran-parada-civico-militar-por-fiestas-patrias-ultimas-noticia/</td></tr><tr><td>2025-07-30</td><td>elcomercio</td><td>Luis Arce rechaza como inadmisible frases de Dina Boluarte sobre Bolivia en su mensaje a la nación</td><td>https://elcomercio.pe/politica/actualidad/luis-arce-rechaza-como-inadmisible-frases-de-dina-boluarte-sobre-bolivia-en-su-mensaje-a-la-nacion-ultimas-noticia/</td></tr><tr><td>2025-07-30</td><td>elcomercio</td><td>Luis Díaz a Bayern Munich: dejó Liverpool y firmó contrato hasta 2029</td><td>https://elcomercio.pe/deporte-total/luis-diaz-a-bayern-munich-dejo-liverpool-y-firmo-contrato-hasta-2029-fichajes-noticia/</td></tr><tr><td>2025-07-30</td><td>elcomercio</td><td>Último temblor en Perú: reportes de IGP, epicentro, magnitud y hora de los sismos</td><td>https://elcomercio.pe/peru/ultimo-temblor-en-peru-hoy-reportes-de-igp-epicentro-magnitud-hora-y-mas-de-sismos-censis-donde-fue-el-temblor-tdpe-noticia/</td></tr><tr><td>2025-07-30</td><td>elcomercio</td><td>Después de las Fiestas Patrias 2025: conoce el próximo feriado en el Perú, fecha y quienes descansan</td><td>https://elcomercio.pe/respuestas/cuando/despues-de-las-fiestas-patrias-2025-conoce-el-proximo-feriado-a-celebrase-en-el-peru-fecha-y-quienes-descansan-segun-el-calenario-oficial-el-peruano-agosto-tdped-noticia/</td></tr><tr><td>2025-07-30</td><td>elcomercio</td><td>Mensaje a la Nación de Dina Boluarte: en vivo y principales anuncios por 28 de julio</td><td>https://elcomercio.pe/politica/gobierno/mensaje-a-la-nacion-en-vivo-hoy-dina-boluarte-en-directo-ver-online-ultimo-discurso-por-28-de-julio-en-el-congreso-de-la-presidenta-aumento-de-sueldo-principales-anuncios-resumen-misa-y-te-deum-lbposting-noticia/</td></tr><tr><td>2025-07-30</td><td>elcomercio</td><td>Paro de transportistas y marcha del 28 de julio: manifestaciones contra la inseguridad y extorsiones</td><td>https://elcomercio.pe/lima/transporte/paro-de-transportistas-y-marcha-del-28-de-julio-en-vivo-sigue-las-manifestaciones-contra-la-inseguridad-y-las-extorsiones-dina-boluarte-fiestas-patrias-lbposting-noticia/</td></tr><tr><td>2025-07-30</td><td>elcomercio</td><td>Municipalidad de Lima aprueba subasta de la concesión del tren Lima-Chosica al sector privado</td><td>https://elcomercio.pe/lima/municipalidad-de-lima-aprueba-subasta-de-la-concesion-del-tren-limachosica-al-sector-privado-ultimas-noticia/</td></tr><tr><td>2025-07-30</td><td>elcomercio</td><td>Precio del dólar hoy en Perú 2025: ¿a cuánto está este domingo 27 de julio?</td><td>https://elcomercio.pe/economia/mercados/precio-del-dolar-hoy-en-peru-2025-a-cuanto-esta-el-dolar-este-domingo-27-de-julio-y-tipo-de-cambio-tasa-cotizacion-compra-y-venta-segun-bcrp-dolares-a-soles-sbs-ocona-lbposting-noticia/</td></tr><tr><td>2025-07-30</td><td>elcomercio</td><td>Resultados de la Tinka en vivo 13 de julio de 2025: números y jugada ganadora</td><td>https://elcomercio.pe/respuestas/loterias/resultados-de-la-tinka-en-vivo-13-de-julio-del-2025-ultimo-sorteo-de-hoy-domingo-numeros-y-jugada-ganadora-pozo-millonario-resultado-si-o-si-boliyapa-intralot-noticia/</td></tr><tr><td>2025-07-30</td><td>elcomercio</td><td>DolarToday y Monitor Dolar: cotización del dólar en Venezuela</td><td>https://elcomercio.pe/economia/mercados/dolartoday-y-monitor-dolar-hoy-a-cuanto-se-cotiza-el-dolar-en-venezuela-tdpe-ultimas-noticia-3/</td></tr><tr><td>2025-07-30</td><td>elcomercio</td><td>FIL Lima 2025: quiénes pueden ingresar gratis a la feria del libro y requisitos</td><td>https://elcomercio.pe/respuestas/quien/fil-lima-2025-conoce-todos-los-detalles-sobre-quienes-pueden-ingresar-gratis-a-la-feria-del-libro-cuales-son-los-requisitos-y-como-acceder-a-este-beneficio-especial-tdpe-noticia/</td></tr><tr><td>2025-07-30</td><td>elcomercio</td><td>Precio del dólar BCV hoy en Venezuela: tasa oficial y cotización según el Banco Central</td><td>https://elcomercio.pe/respuestas/venezuela/precio-dolar-bcv-hoy-en-venezuela-tasa-oficial-y-cotizacion-segun-banco-central-bitcoin-dolares-a-bolivares-monitor-dolar-tdpe-noticia/</td></tr><tr><td>2025-07-30</td><td>elcomercio</td><td>Horóscopo de hoy 29 de julio: predicciones para cada signo</td><td>https://elcomercio.pe/luces/vida-social/horoscopo-de-hoy-29-de-julio-las-predicciones-mas-precisas-para-cada-signo-noticia/</td></tr><tr><td>2025-07-30</td><td>clarin</td><td>Dólar hoy: dólar blue cotiza en vivo, precio oficial y paralelo miércoles 30 de julio minuto a minuto</td><td>https://www.clarin.com/economia/dolar-hoy-dolar-blue-vivo-cotiza-oficial-precio-paralelo-miercoles-30-julio-minuto-minuto_0_ENCNhccmLI.html</td></tr><tr><td>2025-07-30</td><td>clarin</td><td>Javier Milei anunció medidas en vivo: 'viva motosierra', arengo a Sturzenegger y baja de aranceles a bienes de capital</td><td>https://www.clarin.com/politica/javier-milei-medidas-vivo-viva-motosierra-arengo-sturzenegger-baja-aranceles-bienes-capital_0_Am8wkNfzmP.html</td></tr><tr><td>2025-07-30</td><td>clarin</td><td>Elecciones 2025 en Argentina en vivo: 'ahí mandan el ring', frase de Patricia Bullrich y posible candidatura</td><td>https://www.clarin.com/politica/elecciones-2025-argentina-vivo-ahi-mandan-ring-frase-patricia-bullrich-posible-candidatura_0_QJcpI56wse.html</td></tr><tr><td>2025-07-30</td><td>clarin</td><td>Alerta de tsunami tras terremoto en Rusia: olas, metros y países afectados minuto a minuto</td><td>https://www.clarin.com/mundo/alerta-tsunami-terremoto-rusia-olas-metros-paises-afectados-todas-novedades-minuto-minuto_0_dQZLNKiMjY.html</td></tr><tr><td>2025-07-30</td><td>clarin</td><td>Terremoto en Rusia: videos impactantes del fenómeno que sacudió varios países del Pacífico</td><td>https://www.clarin.com/mundo/terremoto-rusia-videos-impactantes-fenomeno-vilo-varios-paises-pacifico_0_y8Y3O8As7M.html</td></tr><tr><td>2025-07-30</td><td>clarin</td><td>Sigue la investigación por el choque de velero donde murió la nieta de Cris Morena, Mila Yankelevich</td><td>https://www.clarin.com/sociedad/sigue-investigacion-choque-velero-murio-nieta-cris-morena_0_T3ozciewFs.html</td></tr><tr><td>2025-07-30</td><td>clarin</td><td>Fiscal pide suspender la cremación del cuerpo de 'Locomotora' Oliveras para investigar causas de su muerte</td><td>https://www.clarin.com/sociedad/fiscal-pidio-suspender-cremacion-cuerpo-locomotora-oliveras-investigar-causas-muerte_0_MQwydZrNQz.html</td></tr><tr><td>2025-07-30</td><td>clarin</td><td>Crisis en Boca: primera decisión fuerte de Miguel Ángel Russo; Marcos Rojo y Marcelo Saracchi trabajarán con el plantel</td><td>https://www.clarin.com/deportes/crisis-boca-primera-decision-fuerte-miguel-angel-russo-marcos-rojo-marcelo-saracchi-trabajaran-plantel_0_NbXb4MPoKc.html</td></tr><tr><td>2025-07-30</td><td>clarin</td><td>Rechazan extradición del exsenador Edgardo Kueider: irá a juicio oral por contrabando con Paraguay</td><td>https://www.clarin.com/politica/rechazar-extradicion-exsenador-edgardo-kueider-ira-juicio-oral-contrabando-paraguay_0_kx4Nf08DnG.html</td></tr><tr><td>2025-07-30</td><td>clarin</td><td>Alerta de tsunami tras el terremoto en Rusia: olas en metros y países afectados, todas las novedades minuto a minuto</td><td>https://www.clarin.com/mundo/alerta-tsunami-terremoto-rusia-olas-metros-paises-afectados-todas-novedades-minuto-minuto_0_dQZLNKiMjY.html</td></tr><tr><td>2025-07-30</td><td>clarin</td><td>Elecciones 2025 en Argentina: 'Ahí mandan ring', frase de Patricia Bullrich sobre su posible candidatura</td><td>https://www.clarin.com/politica/elecciones-2025-argentina-vivo-ahi-mandan-ring-frase-patricia-bullrich-posible-candidatura_0_QJcpI56wse.html</td></tr><tr><td>2025-07-30</td><td>clarin</td><td>Javier Milei y todas sus medidas en vivo: '¡Viva la motosierra!', arenga a Sturzenegger y baja de aranceles a bienes de capital</td><td>https://www.clarin.com/politica/javier-milei-medidas-vivo-viva-motosierra-arengo-sturzenegger-baja-aranceles-bienes-capital_0_Am8wkNfzmP.html</td></tr><tr><td>2025-07-30</td><td>clarin</td><td>Dólar hoy: cotización del blue y oficial, precio paralelo miércoles 30 de julio minuto a minuto</td><td>https://www.clarin.com/economia/dolar-hoy-dolar-blue-vivo-cotiza-oficial-precio-paralelo-miercoles-30-julio-minuto-minuto_0_ENCNhccmLI.html</td></tr><tr><td>2025-07-30</td><td>clarin</td><td>Impuestos bonaerenses: sin subas en las cuotas que vencen en agosto y septiembre</td><td>https://www.clarin.com/economia/impuestos-bonaerenses-subas-cuotas-vencen-agosto-septiembre_0_oovfNA5mmk.html</td></tr><tr><td>2025-07-30</td><td>clarin</td><td>Designan al nuevo interventor del ENRE, que hará el ajuste antes de la unificación con el Enargas</td><td>https://www.clarin.com/economia/designan-nuevo-interventor-enre-hara-ajuste-unificacion-enargas_0_Wnj2QcNJNx.html</td></tr><tr><td>2025-07-30</td><td>clarin</td><td>HSBC en Uruguay: quién es el nuevo dueño tras la salida del banco de Argentina</td><td>https://www.clarin.com/economia/hsbc-uruguay-nuevo-dueno-salida-banco-argentina_0_BVshZQJxYP.html</td></tr><tr><td>2025-07-30</td><td>clarin</td><td>ARCA fuera de servicio: reclamos de contribuyentes, contadores y del agro por la caída del sistema en una fecha clave</td><td>https://www.clarin.com/economia/arca-advierte-cayo-sistema-reclamos-agro-contadores-cierre-mes_0_jrYxQEfBr6.html</td></tr><tr><td>2025-07-30</td><td>clarin</td><td>Oficializan aumento del 6,5% y los bonos de $10.000 para empleadas domésticas: escalas, categorías y sueldos actualizados para agosto</td><td>https://www.clarin.com/economia/oficializan-aumento-65-bonos-10000-empleadas-domesticas-escalas-categorias-sueldos-actualizados-agosto_0_Dv3b1kCNch.html</td></tr><tr><td>2025-07-30</td><td>clarin</td><td>Dólar hoy y dólar blue, EN VIVO: a cuánto cotiza el oficial y cuál es el precio del paralelo este miércoles 30 de julio, minuto a minuto</td><td>https://www.clarin.com/economia/dolar-hoy-dolar-blue-vivo-cotiza-oficial-precio-paralelo-miercoles-30-julio-minuto-minuto_0_ENCNhccmLI.html</td></tr><tr><td>2025-07-30</td><td>clarin</td><td>Dólar hoy: a cuánto cotizan el oficial y sus diferentes tipos de cambio este miércoles 30 de julio</td><td>https://www.clarin.com/economia/dolar-hoy-cotizan-oficial-diferentes-tipos-cambio-miercoles-30-julio_0_o7XOtmi8HI.html</td></tr><tr><td>2025-07-30</td><td>clarin</td><td>El comercio electrónico le gana a la baja del consumo y refuerza ofertas para competirle a las compras online en el exterior</td><td>https://www.clarin.com/economia/comercio-electronico-gana-baja-consumo-refuerza-ofertas-competirle-compras-online-exterior_0_MqDuyP28Qw.html</td></tr><tr><td>2025-07-30</td><td>clarin</td><td>Dólar CCL hoy: a cuánto cotiza este miércoles 30 de julio</td><td>https://www.clarin.com/economia/dolar-ccl-hoy-cotiza-miercoles-30-julio_0_9SzILsLEKC.html</td></tr><tr><td>2025-07-30</td><td>clarin</td><td>Dólar tarjeta hoy: a cuánto cotiza este miércoles 30 de julio</td><td>https://www.clarin.com/economia/dolar-tarjeta-hoy-cotiza-miercoles-30-julio_0_0v0zx2lrdh.html</td></tr><tr><td>2025-07-30</td><td>clarin</td><td>Anteojos con cámara: un video muestra cómo se habría copiado un aspirante en el examen de residencia</td><td>https://www.clarin.com/sociedad/anteojos-camara-video-muestra-copiado-aspirante-examen-residencia_0_NJ9ZH0Ha9Q.html</td></tr><tr><td>2025-07-30</td><td>clarin</td><td>Quién es la nena de 13 años que murió con Mila Yankelevich, la nieta de Cris Morena en el choque del velero</td><td>https://www.clarin.com/sociedad/nena-13-anos-murio-nieta-cris-morena-choque-velero_0_PQHd3phV31.html</td></tr><tr><td>2025-07-30</td><td>clarin</td><td>Alerta de tsunami tras un terremoto en Rusia: olas de cuatro metros, los países afectados y todas las novedades, minuto a minuto</td><td>https://www.clarin.com/mundo/alerta-tsunami-terremoto-rusia-olas-metros-paises-afectados-todas-novedades-minuto-minuto_0_dQZLNKiMjY.html</td></tr><tr><td>2025-07-30</td><td>clarin</td><td>Terremoto en Rusia y tsunami en el Pacífico: los videos más impactantes del fenómeno que tiene en vilo</td><td>https://www.clarin.com/mundo/terremoto-rusia-videos-impactantes-fenomeno-vilo-varios-paises-pacifico_0_y8Y3O8As7M.html</td></tr><tr><td>2025-07-30</td><td>clarin</td><td>La joven china que recorrió canchas de fútbol y al fin encontró al \"héroe\" que la salvó en la final de la Copa América: quién es y cuándo se verán</td><td>https://www.clarin.com/sociedad/joven-china-recorrio-canchas-futbol-fin-encontro-heroe-salvo-final-copa-america-veran_0_2cgaCjZ0HC.html</td></tr><tr><td>2025-07-30</td><td>tn</td><td>Tregua entre Santiago Caputo y Karina Milei: así funciona la mesa de campaña para las elecciones de septiembre</td><td>https://tn.com.ar/politica/2025/07/30/tregua-entre-santiago-caputo-y-karina-milei-asi-funciona-la-mesa-de-campana-para-las-elecciones-de-septiembre/</td></tr><tr><td>2025-07-30</td><td>tn</td><td>Alerta de tsunami en el Pacífico por un terremoto de magnitud 8.8 en Rusia en vivo</td><td>https://tn.com.ar/internacional/2025/07/30/alerta-de-tsunami-en-el-pacifico-por-un-terremoto-de-magnitud-88-en-rusia-en-vivo/</td></tr><tr><td>2025-07-30</td><td>tn</td><td>Estrategia conjunta: el PRO y La Libertad Avanza apuestan a nacionalizar la elección bonaerense</td><td>https://tn.com.ar/politica/2025/07/30/estrategia-conjunta-el-pro-y-la-libertad-avanza-apuestan-a-nacionalizar-la-eleccion-bonaerense/</td></tr><tr><td>2025-07-30</td><td>tn</td><td>Dólar oficial hoy y dólar blue: a cuánto cotizan este miércoles 30 de julio sin cepo</td><td>https://tn.com.ar/economia/2025/07/30/dolar-oficial-hoy-y-dolar-blue-a-cuanto-cotizan-este-miercoles-30-de-julio-sin-cepo/</td></tr><tr><td>2025-07-30</td><td>tn</td><td>La reacción de Juan Román Riquelme cuando Marcos Rojo lo llamó por haber sido separado del plantel en Boca</td><td>https://tn.com.ar/deportes/futbol/2025/07/30/la-reaccion-de-juan-roman-riquelme-cuando-marcos-rojo-lo-llamo-por-haber-sido-separado-del-plantel-en-boca/</td></tr><tr><td>2025-07-30</td><td>tn</td><td>La radiografía del trágico accidente de Miami Beach en el que murió Mila Yankelevich</td><td>https://tn.com.ar/sociedad/2025/07/29/la-radiografia-del-tragico-accidente-de-miami-beach-en-el-que-murio-mila-yankelevich/</td></tr><tr><td>2025-07-30</td><td>tn</td><td>Qué partidos de Copa Argentina 2025 se juegan esta semana: todos los días y horarios</td><td>https://tn.com.ar/deportes/futbol/2025/07/30/que-partidos-de-copa-argentina-2025-se-juegan-esta-semana-todos-los-dias-y-horarios/</td></tr><tr><td>2025-07-30</td><td>tn</td><td>Semáforo de economías regionales: las actividades ganaderas fueron las únicas que mostraron signos positivos</td><td>https://tn.com.ar/campo/2025/07/30/semaforo-de-economias-regionales-las-actividades-ganaderas-fueron-las-unicas-que-mostraron-signos-positivos/</td></tr><tr><td>2025-07-30</td><td>tn</td><td>Filtraron fotos de Tom Cruise y Ana de Armas que confirmarían el romance</td><td>https://tn.com.ar/show/hollywood/2025/07/30/filtraron-fotos-de-tom-cruise-y-ana-de-armas-que-confirmarian-el-romance/</td></tr><tr><td>2025-07-30</td><td>tn</td><td>La atacó a piñas en el ascensor después de hacerle una escena de celos en un asado</td><td>https://tn.com.ar/internacional/2025/07/30/la-ataco-a-pinas-en-el-ascensor-despues-de-hacerle-una-escena-de-celos-en-un-asado/</td></tr></tbody></table></div>"
      ]
     },
     "metadata": {
      "application/vnd.databricks.v1+output": {
       "addedWidgets": {},
       "aggData": [],
       "aggError": "",
       "aggOverflow": false,
       "aggSchema": [],
       "aggSeriesLimitReached": false,
       "aggType": "",
       "arguments": {},
       "columnCustomDisplayInfos": {},
       "data": [
        [
         "2025-07-30",
         "elcomercio",
         "Alerta de tsunami en el Pacífico tras sismo de magnitud 8 cerca de la costa de Rusia",
         "https://elcomercio.pe/mundo/desastres/alerta-de-tsunami-en-el-pacifico-tras-sismo-de-magnitud-8-cerca-de-la-costa-de-rusia-petropavlovsk-kamtchatski-peninsula-de-kamchatka-terremoto-temblor-sismo-alaska-usgs-ultimas-noticia/"
        ],
        [
         "2025-07-30",
         "elcomercio",
         "Alerta de tsunami en Perú por terremoto de 8.8 en Rusia: zonas, horas y altura de las olas que afectarían la costa peruana",
         "https://elcomercio.pe/lima/sucesos/alerta-de-tsunami-en-peru-por-terremoto-de-88-en-rusia-en-vivo-estas-son-las-zonas-las-horas-y-la-altura-de-las-olas-que-afectarian-la-costa-peruana-oceano-pacifico-marina-de-guerra-igp-coen-indeci-lbposting-noticia/"
        ],
        [
         "2025-07-30",
         "elcomercio",
         "Llegada de la mandataria Dina Boluarte a la gran parada cívico-militar por Fiestas Patrias",
         "https://elcomercio.pe/lima/dina-boluarte-asi-fue-la-llegada-de-la-mandataria-a-la-gran-parada-civico-militar-por-fiestas-patrias-ultimas-noticia/"
        ],
        [
         "2025-07-30",
         "elcomercio",
         "Luis Arce rechaza como inadmisible frases de Dina Boluarte sobre Bolivia en su mensaje a la nación",
         "https://elcomercio.pe/politica/actualidad/luis-arce-rechaza-como-inadmisible-frases-de-dina-boluarte-sobre-bolivia-en-su-mensaje-a-la-nacion-ultimas-noticia/"
        ],
        [
         "2025-07-30",
         "elcomercio",
         "Luis Díaz a Bayern Munich: dejó Liverpool y firmó contrato hasta 2029",
         "https://elcomercio.pe/deporte-total/luis-diaz-a-bayern-munich-dejo-liverpool-y-firmo-contrato-hasta-2029-fichajes-noticia/"
        ],
        [
         "2025-07-30",
         "elcomercio",
         "Último temblor en Perú: reportes de IGP, epicentro, magnitud y hora de los sismos",
         "https://elcomercio.pe/peru/ultimo-temblor-en-peru-hoy-reportes-de-igp-epicentro-magnitud-hora-y-mas-de-sismos-censis-donde-fue-el-temblor-tdpe-noticia/"
        ],
        [
         "2025-07-30",
         "elcomercio",
         "Después de las Fiestas Patrias 2025: conoce el próximo feriado en el Perú, fecha y quienes descansan",
         "https://elcomercio.pe/respuestas/cuando/despues-de-las-fiestas-patrias-2025-conoce-el-proximo-feriado-a-celebrase-en-el-peru-fecha-y-quienes-descansan-segun-el-calenario-oficial-el-peruano-agosto-tdped-noticia/"
        ],
        [
         "2025-07-30",
         "elcomercio",
         "Mensaje a la Nación de Dina Boluarte: en vivo y principales anuncios por 28 de julio",
         "https://elcomercio.pe/politica/gobierno/mensaje-a-la-nacion-en-vivo-hoy-dina-boluarte-en-directo-ver-online-ultimo-discurso-por-28-de-julio-en-el-congreso-de-la-presidenta-aumento-de-sueldo-principales-anuncios-resumen-misa-y-te-deum-lbposting-noticia/"
        ],
        [
         "2025-07-30",
         "elcomercio",
         "Paro de transportistas y marcha del 28 de julio: manifestaciones contra la inseguridad y extorsiones",
         "https://elcomercio.pe/lima/transporte/paro-de-transportistas-y-marcha-del-28-de-julio-en-vivo-sigue-las-manifestaciones-contra-la-inseguridad-y-las-extorsiones-dina-boluarte-fiestas-patrias-lbposting-noticia/"
        ],
        [
         "2025-07-30",
         "elcomercio",
         "Municipalidad de Lima aprueba subasta de la concesión del tren Lima-Chosica al sector privado",
         "https://elcomercio.pe/lima/municipalidad-de-lima-aprueba-subasta-de-la-concesion-del-tren-limachosica-al-sector-privado-ultimas-noticia/"
        ],
        [
         "2025-07-30",
         "elcomercio",
         "Precio del dólar hoy en Perú 2025: ¿a cuánto está este domingo 27 de julio?",
         "https://elcomercio.pe/economia/mercados/precio-del-dolar-hoy-en-peru-2025-a-cuanto-esta-el-dolar-este-domingo-27-de-julio-y-tipo-de-cambio-tasa-cotizacion-compra-y-venta-segun-bcrp-dolares-a-soles-sbs-ocona-lbposting-noticia/"
        ],
        [
         "2025-07-30",
         "elcomercio",
         "Resultados de la Tinka en vivo 13 de julio de 2025: números y jugada ganadora",
         "https://elcomercio.pe/respuestas/loterias/resultados-de-la-tinka-en-vivo-13-de-julio-del-2025-ultimo-sorteo-de-hoy-domingo-numeros-y-jugada-ganadora-pozo-millonario-resultado-si-o-si-boliyapa-intralot-noticia/"
        ],
        [
         "2025-07-30",
         "elcomercio",
         "DolarToday y Monitor Dolar: cotización del dólar en Venezuela",
         "https://elcomercio.pe/economia/mercados/dolartoday-y-monitor-dolar-hoy-a-cuanto-se-cotiza-el-dolar-en-venezuela-tdpe-ultimas-noticia-3/"
        ],
        [
         "2025-07-30",
         "elcomercio",
         "FIL Lima 2025: quiénes pueden ingresar gratis a la feria del libro y requisitos",
         "https://elcomercio.pe/respuestas/quien/fil-lima-2025-conoce-todos-los-detalles-sobre-quienes-pueden-ingresar-gratis-a-la-feria-del-libro-cuales-son-los-requisitos-y-como-acceder-a-este-beneficio-especial-tdpe-noticia/"
        ],
        [
         "2025-07-30",
         "elcomercio",
         "Precio del dólar BCV hoy en Venezuela: tasa oficial y cotización según el Banco Central",
         "https://elcomercio.pe/respuestas/venezuela/precio-dolar-bcv-hoy-en-venezuela-tasa-oficial-y-cotizacion-segun-banco-central-bitcoin-dolares-a-bolivares-monitor-dolar-tdpe-noticia/"
        ],
        [
         "2025-07-30",
         "elcomercio",
         "Horóscopo de hoy 29 de julio: predicciones para cada signo",
         "https://elcomercio.pe/luces/vida-social/horoscopo-de-hoy-29-de-julio-las-predicciones-mas-precisas-para-cada-signo-noticia/"
        ],
        [
         "2025-07-30",
         "clarin",
         "Dólar hoy: dólar blue cotiza en vivo, precio oficial y paralelo miércoles 30 de julio minuto a minuto",
         "https://www.clarin.com/economia/dolar-hoy-dolar-blue-vivo-cotiza-oficial-precio-paralelo-miercoles-30-julio-minuto-minuto_0_ENCNhccmLI.html"
        ],
        [
         "2025-07-30",
         "clarin",
         "Javier Milei anunció medidas en vivo: 'viva motosierra', arengo a Sturzenegger y baja de aranceles a bienes de capital",
         "https://www.clarin.com/politica/javier-milei-medidas-vivo-viva-motosierra-arengo-sturzenegger-baja-aranceles-bienes-capital_0_Am8wkNfzmP.html"
        ],
        [
         "2025-07-30",
         "clarin",
         "Elecciones 2025 en Argentina en vivo: 'ahí mandan el ring', frase de Patricia Bullrich y posible candidatura",
         "https://www.clarin.com/politica/elecciones-2025-argentina-vivo-ahi-mandan-ring-frase-patricia-bullrich-posible-candidatura_0_QJcpI56wse.html"
        ],
        [
         "2025-07-30",
         "clarin",
         "Alerta de tsunami tras terremoto en Rusia: olas, metros y países afectados minuto a minuto",
         "https://www.clarin.com/mundo/alerta-tsunami-terremoto-rusia-olas-metros-paises-afectados-todas-novedades-minuto-minuto_0_dQZLNKiMjY.html"
        ],
        [
         "2025-07-30",
         "clarin",
         "Terremoto en Rusia: videos impactantes del fenómeno que sacudió varios países del Pacífico",
         "https://www.clarin.com/mundo/terremoto-rusia-videos-impactantes-fenomeno-vilo-varios-paises-pacifico_0_y8Y3O8As7M.html"
        ],
        [
         "2025-07-30",
         "clarin",
         "Sigue la investigación por el choque de velero donde murió la nieta de Cris Morena, Mila Yankelevich",
         "https://www.clarin.com/sociedad/sigue-investigacion-choque-velero-murio-nieta-cris-morena_0_T3ozciewFs.html"
        ],
        [
         "2025-07-30",
         "clarin",
         "Fiscal pide suspender la cremación del cuerpo de 'Locomotora' Oliveras para investigar causas de su muerte",
         "https://www.clarin.com/sociedad/fiscal-pidio-suspender-cremacion-cuerpo-locomotora-oliveras-investigar-causas-muerte_0_MQwydZrNQz.html"
        ],
        [
         "2025-07-30",
         "clarin",
         "Crisis en Boca: primera decisión fuerte de Miguel Ángel Russo; Marcos Rojo y Marcelo Saracchi trabajarán con el plantel",
         "https://www.clarin.com/deportes/crisis-boca-primera-decision-fuerte-miguel-angel-russo-marcos-rojo-marcelo-saracchi-trabajaran-plantel_0_NbXb4MPoKc.html"
        ],
        [
         "2025-07-30",
         "clarin",
         "Rechazan extradición del exsenador Edgardo Kueider: irá a juicio oral por contrabando con Paraguay",
         "https://www.clarin.com/politica/rechazar-extradicion-exsenador-edgardo-kueider-ira-juicio-oral-contrabando-paraguay_0_kx4Nf08DnG.html"
        ],
        [
         "2025-07-30",
         "clarin",
         "Alerta de tsunami tras el terremoto en Rusia: olas en metros y países afectados, todas las novedades minuto a minuto",
         "https://www.clarin.com/mundo/alerta-tsunami-terremoto-rusia-olas-metros-paises-afectados-todas-novedades-minuto-minuto_0_dQZLNKiMjY.html"
        ],
        [
         "2025-07-30",
         "clarin",
         "Elecciones 2025 en Argentina: 'Ahí mandan ring', frase de Patricia Bullrich sobre su posible candidatura",
         "https://www.clarin.com/politica/elecciones-2025-argentina-vivo-ahi-mandan-ring-frase-patricia-bullrich-posible-candidatura_0_QJcpI56wse.html"
        ],
        [
         "2025-07-30",
         "clarin",
         "Javier Milei y todas sus medidas en vivo: '¡Viva la motosierra!', arenga a Sturzenegger y baja de aranceles a bienes de capital",
         "https://www.clarin.com/politica/javier-milei-medidas-vivo-viva-motosierra-arengo-sturzenegger-baja-aranceles-bienes-capital_0_Am8wkNfzmP.html"
        ],
        [
         "2025-07-30",
         "clarin",
         "Dólar hoy: cotización del blue y oficial, precio paralelo miércoles 30 de julio minuto a minuto",
         "https://www.clarin.com/economia/dolar-hoy-dolar-blue-vivo-cotiza-oficial-precio-paralelo-miercoles-30-julio-minuto-minuto_0_ENCNhccmLI.html"
        ],
        [
         "2025-07-30",
         "clarin",
         "Impuestos bonaerenses: sin subas en las cuotas que vencen en agosto y septiembre",
         "https://www.clarin.com/economia/impuestos-bonaerenses-subas-cuotas-vencen-agosto-septiembre_0_oovfNA5mmk.html"
        ],
        [
         "2025-07-30",
         "clarin",
         "Designan al nuevo interventor del ENRE, que hará el ajuste antes de la unificación con el Enargas",
         "https://www.clarin.com/economia/designan-nuevo-interventor-enre-hara-ajuste-unificacion-enargas_0_Wnj2QcNJNx.html"
        ],
        [
         "2025-07-30",
         "clarin",
         "HSBC en Uruguay: quién es el nuevo dueño tras la salida del banco de Argentina",
         "https://www.clarin.com/economia/hsbc-uruguay-nuevo-dueno-salida-banco-argentina_0_BVshZQJxYP.html"
        ],
        [
         "2025-07-30",
         "clarin",
         "ARCA fuera de servicio: reclamos de contribuyentes, contadores y del agro por la caída del sistema en una fecha clave",
         "https://www.clarin.com/economia/arca-advierte-cayo-sistema-reclamos-agro-contadores-cierre-mes_0_jrYxQEfBr6.html"
        ],
        [
         "2025-07-30",
         "clarin",
         "Oficializan aumento del 6,5% y los bonos de $10.000 para empleadas domésticas: escalas, categorías y sueldos actualizados para agosto",
         "https://www.clarin.com/economia/oficializan-aumento-65-bonos-10000-empleadas-domesticas-escalas-categorias-sueldos-actualizados-agosto_0_Dv3b1kCNch.html"
        ],
        [
         "2025-07-30",
         "clarin",
         "Dólar hoy y dólar blue, EN VIVO: a cuánto cotiza el oficial y cuál es el precio del paralelo este miércoles 30 de julio, minuto a minuto",
         "https://www.clarin.com/economia/dolar-hoy-dolar-blue-vivo-cotiza-oficial-precio-paralelo-miercoles-30-julio-minuto-minuto_0_ENCNhccmLI.html"
        ],
        [
         "2025-07-30",
         "clarin",
         "Dólar hoy: a cuánto cotizan el oficial y sus diferentes tipos de cambio este miércoles 30 de julio",
         "https://www.clarin.com/economia/dolar-hoy-cotizan-oficial-diferentes-tipos-cambio-miercoles-30-julio_0_o7XOtmi8HI.html"
        ],
        [
         "2025-07-30",
         "clarin",
         "El comercio electrónico le gana a la baja del consumo y refuerza ofertas para competirle a las compras online en el exterior",
         "https://www.clarin.com/economia/comercio-electronico-gana-baja-consumo-refuerza-ofertas-competirle-compras-online-exterior_0_MqDuyP28Qw.html"
        ],
        [
         "2025-07-30",
         "clarin",
         "Dólar CCL hoy: a cuánto cotiza este miércoles 30 de julio",
         "https://www.clarin.com/economia/dolar-ccl-hoy-cotiza-miercoles-30-julio_0_9SzILsLEKC.html"
        ],
        [
         "2025-07-30",
         "clarin",
         "Dólar tarjeta hoy: a cuánto cotiza este miércoles 30 de julio",
         "https://www.clarin.com/economia/dolar-tarjeta-hoy-cotiza-miercoles-30-julio_0_0v0zx2lrdh.html"
        ],
        [
         "2025-07-30",
         "clarin",
         "Anteojos con cámara: un video muestra cómo se habría copiado un aspirante en el examen de residencia",
         "https://www.clarin.com/sociedad/anteojos-camara-video-muestra-copiado-aspirante-examen-residencia_0_NJ9ZH0Ha9Q.html"
        ],
        [
         "2025-07-30",
         "clarin",
         "Quién es la nena de 13 años que murió con Mila Yankelevich, la nieta de Cris Morena en el choque del velero",
         "https://www.clarin.com/sociedad/nena-13-anos-murio-nieta-cris-morena-choque-velero_0_PQHd3phV31.html"
        ],
        [
         "2025-07-30",
         "clarin",
         "Alerta de tsunami tras un terremoto en Rusia: olas de cuatro metros, los países afectados y todas las novedades, minuto a minuto",
         "https://www.clarin.com/mundo/alerta-tsunami-terremoto-rusia-olas-metros-paises-afectados-todas-novedades-minuto-minuto_0_dQZLNKiMjY.html"
        ],
        [
         "2025-07-30",
         "clarin",
         "Terremoto en Rusia y tsunami en el Pacífico: los videos más impactantes del fenómeno que tiene en vilo",
         "https://www.clarin.com/mundo/terremoto-rusia-videos-impactantes-fenomeno-vilo-varios-paises-pacifico_0_y8Y3O8As7M.html"
        ],
        [
         "2025-07-30",
         "clarin",
         "La joven china que recorrió canchas de fútbol y al fin encontró al \"héroe\" que la salvó en la final de la Copa América: quién es y cuándo se verán",
         "https://www.clarin.com/sociedad/joven-china-recorrio-canchas-futbol-fin-encontro-heroe-salvo-final-copa-america-veran_0_2cgaCjZ0HC.html"
        ],
        [
         "2025-07-30",
         "tn",
         "Tregua entre Santiago Caputo y Karina Milei: así funciona la mesa de campaña para las elecciones de septiembre",
         "https://tn.com.ar/politica/2025/07/30/tregua-entre-santiago-caputo-y-karina-milei-asi-funciona-la-mesa-de-campana-para-las-elecciones-de-septiembre/"
        ],
        [
         "2025-07-30",
         "tn",
         "Alerta de tsunami en el Pacífico por un terremoto de magnitud 8.8 en Rusia en vivo",
         "https://tn.com.ar/internacional/2025/07/30/alerta-de-tsunami-en-el-pacifico-por-un-terremoto-de-magnitud-88-en-rusia-en-vivo/"
        ],
        [
         "2025-07-30",
         "tn",
         "Estrategia conjunta: el PRO y La Libertad Avanza apuestan a nacionalizar la elección bonaerense",
         "https://tn.com.ar/politica/2025/07/30/estrategia-conjunta-el-pro-y-la-libertad-avanza-apuestan-a-nacionalizar-la-eleccion-bonaerense/"
        ],
        [
         "2025-07-30",
         "tn",
         "Dólar oficial hoy y dólar blue: a cuánto cotizan este miércoles 30 de julio sin cepo",
         "https://tn.com.ar/economia/2025/07/30/dolar-oficial-hoy-y-dolar-blue-a-cuanto-cotizan-este-miercoles-30-de-julio-sin-cepo/"
        ],
        [
         "2025-07-30",
         "tn",
         "La reacción de Juan Román Riquelme cuando Marcos Rojo lo llamó por haber sido separado del plantel en Boca",
         "https://tn.com.ar/deportes/futbol/2025/07/30/la-reaccion-de-juan-roman-riquelme-cuando-marcos-rojo-lo-llamo-por-haber-sido-separado-del-plantel-en-boca/"
        ],
        [
         "2025-07-30",
         "tn",
         "La radiografía del trágico accidente de Miami Beach en el que murió Mila Yankelevich",
         "https://tn.com.ar/sociedad/2025/07/29/la-radiografia-del-tragico-accidente-de-miami-beach-en-el-que-murio-mila-yankelevich/"
        ],
        [
         "2025-07-30",
         "tn",
         "Qué partidos de Copa Argentina 2025 se juegan esta semana: todos los días y horarios",
         "https://tn.com.ar/deportes/futbol/2025/07/30/que-partidos-de-copa-argentina-2025-se-juegan-esta-semana-todos-los-dias-y-horarios/"
        ],
        [
         "2025-07-30",
         "tn",
         "Semáforo de economías regionales: las actividades ganaderas fueron las únicas que mostraron signos positivos",
         "https://tn.com.ar/campo/2025/07/30/semaforo-de-economias-regionales-las-actividades-ganaderas-fueron-las-unicas-que-mostraron-signos-positivos/"
        ],
        [
         "2025-07-30",
         "tn",
         "Filtraron fotos de Tom Cruise y Ana de Armas que confirmarían el romance",
         "https://tn.com.ar/show/hollywood/2025/07/30/filtraron-fotos-de-tom-cruise-y-ana-de-armas-que-confirmarian-el-romance/"
        ],
        [
         "2025-07-30",
         "tn",
         "La atacó a piñas en el ascensor después de hacerle una escena de celos en un asado",
         "https://tn.com.ar/internacional/2025/07/30/la-ataco-a-pinas-en-el-ascensor-despues-de-hacerle-una-escena-de-celos-en-un-asado/"
        ]
       ],
       "datasetInfos": [],
       "dbfsResultPath": null,
       "isJsonSchema": true,
       "metadata": {},
       "overflow": false,
       "plotOptions": {
        "customPlotOptions": {},
        "displayType": "table",
        "pivotAggregation": null,
        "pivotColumns": null,
        "xColumns": null,
        "yColumns": null
       },
       "removedWidgets": [],
       "schema": [
        {
         "metadata": "{}",
         "name": "article_date",
         "type": "\"string\""
        },
        {
         "metadata": "{}",
         "name": "source",
         "type": "\"string\""
        },
        {
         "metadata": "{}",
         "name": "title",
         "type": "\"string\""
        },
        {
         "metadata": "{}",
         "name": "url",
         "type": "\"string\""
        }
       ],
       "type": "table"
      }
     },
     "output_type": "display_data"
    }
   ],
   "source": [
    "# Ordenar las columnas \n",
    "df_titulares_azure = df_titulares_azure[['article_date', 'source', 'title', 'url']]\n",
    "\n",
    "display(df_titulares_azure)"
   ]
  },
  {
   "cell_type": "code",
   "execution_count": 0,
   "metadata": {
    "application/vnd.databricks.v1+cell": {
     "cellMetadata": {
      "byteLimit": 2048000,
      "rowLimit": 10000
     },
     "inputWidgets": {},
     "nuid": "5b5dd1d4-52c4-48bb-9186-61b42e2ed395",
     "showTitle": false,
     "tableResultSettingsMap": {},
     "title": ""
    }
   },
   "outputs": [
    {
     "output_type": "stream",
     "name": "stderr",
     "output_type": "stream",
     "text": [
      "/databricks/spark/python/pyspark/sql/pandas/conversion.py:656: FutureWarning: iteritems is deprecated and will be removed in a future version. Use .items instead.\n  [(c, t) for (_, c), t in zip(pdf_slice.iteritems(), arrow_types)]\n"
     ]
    }
   ],
   "source": [
    "# Conversión del Pandas DataFrame a Spark DataFrame\n",
    "df_titulares_azure_spark = spark.createDataFrame(df_titulares_azure)\n",
    "\n",
    "# Almacenamiento del Spark DataFrame\n",
    "df_titulares_azure_spark.write.mode(\"overwrite\").parquet(\n",
    "    \"abfss://scraps@scrapingiastorage.dfs.core.windows.net/clean/\"\n",
    ")"
   ]
  }
 ],
 "metadata": {
  "application/vnd.databricks.v1+notebook": {
   "computePreferences": null,
   "dashboards": [],
   "environmentMetadata": {
    "base_environment": "",
    "environment_version": "2"
   },
   "inputWidgetPreferences": null,
   "language": "python",
   "notebookMetadata": {
    "pythonIndentUnit": 2
   },
   "notebookName": "01_Scraper_conIA_AZURE",
   "widgets": {}
  },
  "language_info": {
   "name": "python"
  }
 },
 "nbformat": 4,
 "nbformat_minor": 0
}